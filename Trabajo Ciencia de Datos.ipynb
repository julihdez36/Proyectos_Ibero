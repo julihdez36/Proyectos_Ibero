{
 "cells": [
  {
   "cell_type": "markdown",
   "metadata": {},
   "source": [
    "### **Introducción**\n",
    "\n",
    "A lo largo de este análisis, se calcularán diversas medidas estadísticas como la media, mediana, moda, varianza, desviación estándar, coeficiente de variación y puntuaciones Z, con el objetivo de describir y comparar la dispersión de los datos. Para mayor entendimiento, se hará uso de un conjunto de cien datos aleatorios creados a continuación: "
   ]
  },
  {
   "cell_type": "code",
   "execution_count": 1,
   "metadata": {},
   "outputs": [],
   "source": [
    "import random \n",
    "numeros = []\n",
    "for i in range (100):\n",
    "    numeros.append (random.randint(1,10))\n",
    "    "
   ]
  },
  {
   "cell_type": "code",
   "execution_count": 2,
   "metadata": {},
   "outputs": [
    {
     "name": "stdout",
     "output_type": "stream",
     "text": [
      "[8, 1, 6, 10, 1, 5, 2, 8, 3, 3, 3, 3, 8, 6, 10, 8, 6, 6, 9, 5, 2, 1, 8, 10, 8, 6, 9, 6, 8, 2, 4, 2, 4, 7, 1, 10, 1, 5, 10, 8, 1, 1, 4, 10, 4, 5, 3, 5, 1, 2, 6, 7, 4, 9, 6, 2, 9, 5, 7, 4, 9, 2, 8, 3, 4, 2, 5, 1, 10, 2, 6, 4, 10, 10, 9, 7, 6, 1, 8, 9, 8, 8, 8, 8, 7, 6, 10, 10, 3, 8, 4, 3, 1, 3, 2, 6, 3, 9, 8, 6]\n"
     ]
    }
   ],
   "source": [
    "print (numeros)"
   ]
  },
  {
   "cell_type": "markdown",
   "metadata": {},
   "source": [
    "### 1. **Función de media con función sum y bucle for**\n",
    "\n",
    "\n",
    "**Definición**: La media es el valor promedio de un conjunto de datos. Se obtiene sumando todos los valores y dividiendo el resultado entre el número total de observaciones. Permite resumir un conjunto de datos con un valor representativo, aunque es susceptible a valores atípicos.\n",
    "\n",
    "**Fórmula**:\n",
    "$\n",
    "\\bar{X} = \\frac{1}{n} \\sum_{i=1}^{n} X_i\n",
    "$\n",
    "Donde:\n",
    "- $( X_i )$ son los valores individuales del conjunto de datos,\n",
    "- $( n )$ es el número de observaciones."
   ]
  },
  {
   "cell_type": "code",
   "execution_count": 3,
   "metadata": {},
   "outputs": [
    {
     "name": "stdout",
     "output_type": "stream",
     "text": [
      "El promedio de los datos es 5.38\n"
     ]
    }
   ],
   "source": [
    "def media (datos):\n",
    "    return sum (datos)/ len (datos)\n",
    "print (f'El promedio de los datos es {media (numeros)}')"
   ]
  },
  {
   "cell_type": "code",
   "execution_count": 4,
   "metadata": {},
   "outputs": [
    {
     "name": "stdout",
     "output_type": "stream",
     "text": [
      "El promedio de los datos es 5.38\n"
     ]
    }
   ],
   "source": [
    "def media_2 (datos):\n",
    "    suma= 0\n",
    "    for i in datos:\n",
    "        suma= suma+i\n",
    "    return suma/ len(datos)\n",
    "print (f'El promedio de los datos es {media_2 (numeros)}')\n"
   ]
  },
  {
   "cell_type": "markdown",
   "metadata": {},
   "source": [
    "\n",
    "### 2. **Mediana**\n",
    "**Definición**: La mediana es el valor que se encuentra en el centro de un conjunto de datos ordenados. Si el número de datos es impar, es el valor del medio; si es par, es el promedio de los dos valores centrales. No depende de los valores del conjunto sino de su orden.\n",
    "\n",
    "**Cómo se construye**:\n",
    "- Si  $ n $ es impar, la mediana es el valor en la posición $ \\frac{n+1}{2} $ de los datos ordenados.\n",
    "- Si $ n $ es par, la mediana es el promedio de los valores en las posiciones $ \\frac{n}{2} $ y $ \\frac{n}{2} + 1 $.\n"
   ]
  },
  {
   "cell_type": "code",
   "execution_count": 5,
   "metadata": {},
   "outputs": [
    {
     "name": "stdout",
     "output_type": "stream",
     "text": [
      "La mediana es 6.0\n"
     ]
    }
   ],
   "source": [
    "def mediana (datos):\n",
    "    datos= sorted (datos)\n",
    "    n = len(datos)\n",
    "    if n%2 == 0:\n",
    "        return (datos [n//2]+datos[(n//2)-1])/2 \n",
    "    else:\n",
    "        return datos [n//2]\n",
    "    \n",
    "print(f'La mediana es {mediana(numeros)}')\n",
    "\n",
    "    "
   ]
  },
  {
   "cell_type": "markdown",
   "metadata": {},
   "source": [
    "### 3. **Moda**\n",
    "**Definición**: La moda es el valor o valores que más se repiten en un conjunto de datos. Un conjunto de datos puede ser unimodal (una sola moda), bimodal (dos modas) o multimodal (más de dos modas).\n",
    "\n",
    "**Cómo se construye**: Identificando el valor o los valores que tienen mayor frecuencia en el conjunto de datos.\n"
   ]
  },
  {
   "cell_type": "code",
   "execution_count": 3,
   "metadata": {},
   "outputs": [
    {
     "name": "stdout",
     "output_type": "stream",
     "text": [
      "La moda es 8\n",
      "La moda es 8\n"
     ]
    }
   ],
   "source": [
    "def moda (datos):\n",
    "    unicos= set(datos)\n",
    "    mayor = -1\n",
    "    for i in unicos:\n",
    "        cuenta = datos.count(i)\n",
    "        if cuenta > datos.count(mayor):\n",
    "            mayor = i\n",
    "    return mayor\n",
    "\n",
    "print (f'La moda es {moda(numeros)}')\n",
    "\n",
    "# Acá dejo una forma alternativa que puede ser mas eficiente. No obstante, muy bien la intuición original. \n",
    "\n",
    "def moda(datos):\n",
    "    conteo = {}\n",
    "    for i in datos:\n",
    "        conteo[i] = conteo.get(i, 0) + 1\n",
    "    return max(conteo, key=conteo.get)\n",
    "\n",
    "print (f'La moda es {moda(numeros)}')\n"
   ]
  },
  {
   "cell_type": "markdown",
   "metadata": {},
   "source": [
    "**Definición**: La varianza es una medida de la dispersión que indica qué tan alejados están los valores de un conjunto de datos respecto a la media. Cuanto mayor sea la varianza, mayor es la dispersión. Al elevar al cuadrado las diferencias de cada dato respecto a la media, la varianza da mayor peso a las desviaciones grandes, por lo que es útil para resaltar la dispersión extrema.\n",
    "\n",
    "**Fórmula** (para una población completa):\n",
    "$\n",
    "\\sigma^2 = \\frac{1}{n} \\sum_{i=1}^{n} (X_i - \\bar{X})^2\n",
    "$\n",
    "\n",
    "Para una muestra:\n",
    "$\n",
    "s^2 = \\frac{1}{n-1} \\sum_{i=1}^{n} (X_i - \\bar{X})^2\n",
    "$\n",
    "\n",
    "Donde:\n",
    "- $ \\sigma^2 $ es la varianza poblacional,\n",
    "- $ s^2 $ es la varianza muestral.\n",
    "- $\\bar{X}$ es la media."
   ]
  },
  {
   "cell_type": "code",
   "execution_count": 7,
   "metadata": {},
   "outputs": [
    {
     "name": "stdout",
     "output_type": "stream",
     "text": [
      "La varianza de los datos es 8.535600000000004\n"
     ]
    }
   ],
   "source": [
    "def varianza (datos):\n",
    "    suma= 0\n",
    "    med= media (datos)\n",
    "    for i in datos:\n",
    "        resta= i-med\n",
    "        cuadrado= (resta)**2\n",
    "        suma= suma+cuadrado\n",
    "    return suma/(len(datos))\n",
    "\n",
    "print (f'La varianza de los datos es {varianza (numeros)}')\n",
    "\n",
    "# Si se desea resumir código\n",
    "\n",
    "def varianza(datos):\n",
    "    med = media(datos)\n",
    "    return sum((x - med) ** 2 for x in datos) / len(datos)\n"
   ]
  },
  {
   "cell_type": "markdown",
   "metadata": {},
   "source": [
    "### 5. **Desviación Estándar**\n",
    "**Definición**: La desviación estándar es la raíz cuadrada de la varianza. Mide la dispersión de los datos con respecto a la media, en las mismas unidades que los datos originales.\n",
    "\n",
    "**Fórmula**:\n",
    "$\n",
    "\\sigma = \\sqrt{\\sigma^2}\n",
    "$\n",
    "\n",
    "Para la muestra:\n",
    "$\n",
    "s = \\sqrt{s^2}\n",
    "$\n"
   ]
  },
  {
   "cell_type": "code",
   "execution_count": 8,
   "metadata": {},
   "outputs": [
    {
     "name": "stdout",
     "output_type": "stream",
     "text": [
      "La desviación estandar de los datos es de 2.921574917745565\n"
     ]
    }
   ],
   "source": [
    "def desviacion_estandar (datos):\n",
    "    return varianza (datos)**(1/2)\n",
    "print (f'La desviación estandar de los datos es de {desviacion_estandar (numeros)}')"
   ]
  },
  {
   "cell_type": "code",
   "execution_count": 9,
   "metadata": {},
   "outputs": [
    {
     "name": "stdout",
     "output_type": "stream",
     "text": [
      "La desviación estandar de los datos es de 2.921574917745565\n"
     ]
    }
   ],
   "source": [
    "import math\n",
    "def desviacion_2 (datos):\n",
    "    return math.sqrt (varianza (datos))\n",
    "print (f'La desviación estandar de los datos es de {desviacion_2 (numeros)}')"
   ]
  },
  {
   "cell_type": "markdown",
   "metadata": {},
   "source": [
    "### 6. **Coeficiente de Variación**\n",
    "**Definición**: El coeficiente de variación es una medida relativa de dispersión, que permite comparar la variabilidad entre diferentes conjuntos de datos. Se expresa como un porcentaje de la media.\n",
    "\n",
    "**Fórmula**:\n",
    "$\n",
    "CV = \\frac{\\sigma}{\\bar{X}} \\times 100\n",
    "$\n",
    "\n",
    "Donde $ \\sigma $ es la desviación estándar y $ \\bar{X} $ es la media.\n"
   ]
  },
  {
   "cell_type": "code",
   "execution_count": 10,
   "metadata": {},
   "outputs": [
    {
     "name": "stdout",
     "output_type": "stream",
     "text": [
      "El coeficiente de variación es del 54.30436650084693%\n"
     ]
    }
   ],
   "source": [
    "def coef_var (datos):\n",
    "    return desviacion_estandar(datos)/media(datos)*100\n",
    "print (f'El coeficiente de variación es del {coef_var(numeros)}%')"
   ]
  },
  {
   "cell_type": "markdown",
   "metadata": {},
   "source": [
    "### 7. **Normalización Z** (Puntuación Z o estandarización)\n",
    "**Definición**: La puntuación Z o normalización Z transforma los datos para que tengan una media de 0 y una desviación estándar de 1. Es útil para comparar datos de diferentes distribuciones.\n",
    "\n",
    "**Fórmula**:\n",
    "$\n",
    "Z_i = \\frac{X_i - \\bar{X}}{\\sigma}\n",
    "$\n",
    "Donde:\n",
    "- $ Z_i $ es el valor Z normalizado del dato $ X_i $,\n",
    "- $ \\bar{X} $ es la media,\n",
    "- $ \\sigma $ es la desviación estándar."
   ]
  },
  {
   "cell_type": "code",
   "execution_count": 11,
   "metadata": {},
   "outputs": [
    {
     "name": "stdout",
     "output_type": "stream",
     "text": [
      "[-0.47234797629796116, 0.5544954504367371, -1.4991914030326594, -0.8146291185428606, -0.47234797629796116, 1.5813388771714352, -1.15691026078776, 0.21221430819183768, 0.8967765926816365, -0.13006683405306174, 0.5544954504367371, -1.4991914030326594, 0.21221430819183768, -1.15691026078776, -1.4991914030326594, 1.239057734926536, 1.239057734926536, 1.5813388771714352, -1.4991914030326594, -1.15691026078776, 0.21221430819183768, -0.47234797629796116, -0.8146291185428606, -1.4991914030326594, 1.239057734926536, -1.15691026078776, -0.8146291185428606, 1.5813388771714352, -1.15691026078776, -0.13006683405306174, -1.4991914030326594, 0.8967765926816365, 1.239057734926536, -1.15691026078776, 0.21221430819183768, -0.47234797629796116, -0.47234797629796116, 1.5813388771714352, -1.15691026078776, -0.8146291185428606, 1.5813388771714352, 0.8967765926816365, 0.5544954504367371, 0.8967765926816365, -1.4991914030326594, 0.5544954504367371, -0.8146291185428606, 0.8967765926816365, 0.5544954504367371, -1.15691026078776, 0.5544954504367371, -1.15691026078776, 0.5544954504367371, 0.5544954504367371, -0.47234797629796116, 0.21221430819183768, 0.5544954504367371, -0.13006683405306174, -1.4991914030326594, 0.21221430819183768, 1.5813388771714352, -1.4991914030326594, 0.8967765926816365, -1.15691026078776, 0.5544954504367371, 0.8967765926816365, -1.15691026078776, 0.8967765926816365, 0.5544954504367371, 1.5813388771714352, -0.47234797629796116, 0.21221430819183768, 1.5813388771714352, 0.8967765926816365, -1.4991914030326594, 1.5813388771714352, -1.15691026078776, 0.8967765926816365, 1.239057734926536, -0.47234797629796116, -0.47234797629796116, -0.47234797629796116, -0.8146291185428606, -0.47234797629796116, -1.15691026078776, -0.47234797629796116, 0.21221430819183768, 0.8967765926816365, 1.239057734926536, 1.239057734926536, 0.8967765926816365, -0.13006683405306174, -0.13006683405306174, 0.21221430819183768, -0.8146291185428606, -0.8146291185428606, 0.5544954504367371, 0.5544954504367371, -1.4991914030326594, 1.5813388771714352]\n"
     ]
    }
   ],
   "source": [
    "def normalZ (datos):\n",
    "    z= []\n",
    "    for i in datos:\n",
    "        z.append ((i-media(datos))/desviacion_estandar(datos))\n",
    "    return z\n",
    "print (normalZ (numeros))"
   ]
  }
 ],
 "metadata": {
  "kernelspec": {
   "display_name": "Python 3",
   "language": "python",
   "name": "python3"
  },
  "language_info": {
   "codemirror_mode": {
    "name": "ipython",
    "version": 3
   },
   "file_extension": ".py",
   "mimetype": "text/x-python",
   "name": "python",
   "nbconvert_exporter": "python",
   "pygments_lexer": "ipython3",
   "version": "3.12.6"
  }
 },
 "nbformat": 4,
 "nbformat_minor": 2
}

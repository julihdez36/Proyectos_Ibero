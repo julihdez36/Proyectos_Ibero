{
 "cells": [
  {
   "cell_type": "markdown",
   "metadata": {},
   "source": [
    "Escribir un programa en Python que declare una lista y la vaya llenando de números hasta\n",
    "que introduzcamos un número negativo. Entonces se debe imprimir el vector (sólo los\n",
    "valores introducidos)."
   ]
  },
  {
   "cell_type": "code",
   "execution_count": 1,
   "metadata": {},
   "outputs": [
    {
     "name": "stdout",
     "output_type": "stream",
     "text": [
      "[5, 8, 3, 8]\n"
     ]
    }
   ],
   "source": [
    "lista = []\n",
    "n = int(input())\n",
    "while n>=0:\n",
    "    lista.append(n)\n",
    "    n = int(input())\n",
    "print(lista)"
   ]
  },
  {
   "cell_type": "markdown",
   "metadata": {},
   "source": [
    "Escribir un programa en Python que declare tres listas ‘lista1’, ‘lista2’ y ‘lista3’ de cinco\n",
    "enteros cada uno, pida valores para ‘lista1’ y ‘lista2’ y calcule lista3=lista1+lista2."
   ]
  },
  {
   "cell_type": "code",
   "execution_count": 5,
   "metadata": {},
   "outputs": [
    {
     "name": "stdout",
     "output_type": "stream",
     "text": [
      "la lista 1 es  [3, 76, 4, 4, 9] la lista 2 es  [6, 3, 6, 8, 4] la lista 3 es  [9, 79, 10, 12, 13]\n"
     ]
    }
   ],
   "source": [
    "lista1= []\n",
    "lista2= []\n",
    "lista3= []\n",
    "for i in range (5):\n",
    "    n=int(input('Ingrese un valor para la lista 1: '))\n",
    "    x=int(input('Ingrese un valor para la lista 2: '))\n",
    "    lista1.append(n)\n",
    "    lista2.append(x)\n",
    "for i in range (5):\n",
    "    lista3.append(lista1[i]+lista2[i])\n",
    "print('la lista 1 es ', lista1, 'la lista 2 es ', lista2, 'la lista 3 es ', lista3)"
   ]
  },
  {
   "cell_type": "markdown",
   "metadata": {},
   "source": [
    "Escribir un programa en Python que guarde la temperatura mínima y máxima de los\n",
    "últimos 5 días. El programa debe recibir la información, almacenarla y mostrar:\n",
    "\n",
    "- La temperatura media de cada día\n",
    "- El día con menor temperatura\n",
    "- Después de almacenar la información de los 5 días, el programa debe recibir una\n",
    "temperatura más por teclado y mostrar los días cuya temperatura máxima coincide\n",
    "con ella. si no existe ningún día se muestra un mensaje de información."
   ]
  },
  {
   "cell_type": "code",
   "execution_count": 11,
   "metadata": {},
   "outputs": [
    {
     "name": "stdout",
     "output_type": "stream",
     "text": [
      "[1, 1, 1, 1, 1] [5, 5, 5, 5, 5]\n",
      "La temperatura media de todos los días fue [3.0, 3.0, 3.0, 3.0, 3.0]\n",
      "La menor temperatura fue en el día 1\n",
      "La menor temperatura fue en el día 2\n",
      "La menor temperatura fue en el día 3\n",
      "La menor temperatura fue en el día 4\n",
      "La menor temperatura fue en el día 5\n",
      "La temperatura máxima del día 1 es igual a la ingresada\n",
      "La temperatura máxima del día 2 es igual a la ingresada\n",
      "La temperatura máxima del día 3 es igual a la ingresada\n",
      "La temperatura máxima del día 4 es igual a la ingresada\n",
      "La temperatura máxima del día 5 es igual a la ingresada\n",
      "No hay más días que coincidan con la temperatura buscada\n"
     ]
    }
   ],
   "source": [
    "mínimos=[]\n",
    "máximos=[]\n",
    "media= []\n",
    "for i in range(5):\n",
    "    mn=int(input(f'ingrese la temperatura mínima del día {i+1}: '))\n",
    "    mx=int(input(f'ingrese la temperatura máxima del día {i+1}: '))\n",
    "    mínimos.append(mn)\n",
    "    máximos.append(mx)\n",
    "    media.append((mn+mx)/2)\n",
    "print(mínimos, máximos)\n",
    "print('La temperatura media de todos los días fue', media)\n",
    "mínimo=(min(mínimos))\n",
    "for i in range(5):\n",
    "    if mínimo==mínimos[i]:\n",
    "        print('La menor temperatura fue en el día', i+1)\n",
    "\n",
    "\n",
    "nuevo=int(input('Ingrese un nuevo valor'))\n",
    "for i in range(5):\n",
    "    if nuevo==máximos[i]:\n",
    "        print('La temperatura máxima del día', i+1, 'es igual a la ingresada')\n",
    "print('No hay más días que coincidan con la temperatura buscada')\n"
   ]
  },
  {
   "cell_type": "markdown",
   "metadata": {},
   "source": [
    "Crea un programa en Python que permita adivinar un número. La aplicación genera un\n",
    "número aleatorio del 1 al 100. A continuación, va pidiendo números y va respondiendo si\n",
    "el número a adivinar es mayor o menor que el introducido, así como el número de intentos\n",
    "que quedan, se contarán con 10 intentos para adivinar el número). El programa termina\n",
    "cuando se acierta el número y debe indicar en que intento fue acertado, si se llega al límite\n",
    "de intentos, el programa debe mostrar que se había generado."
   ]
  },
  {
   "cell_type": "code",
   "execution_count": 13,
   "metadata": {},
   "outputs": [
    {
     "name": "stdout",
     "output_type": "stream",
     "text": [
      "El número aleatorio es mayor\n",
      "Te quedan 9 intentos.\n",
      "El número aleatorio es mayor\n",
      "Te quedan 8 intentos.\n",
      "El número aleatorio es menor\n",
      "Te quedan 7 intentos.\n",
      "El número aleatorio es mayor\n",
      "Te quedan 6 intentos.\n",
      "El número aleatorio es mayor\n",
      "Te quedan 5 intentos.\n",
      "El número aleatorio es menor\n",
      "Te quedan 4 intentos.\n",
      "adivinaste!! :D\n",
      "El número que debías adivinar era 70\n"
     ]
    }
   ],
   "source": [
    "import random\n",
    "numero= random.randint(1,100)\n",
    "for i in range (10):\n",
    "    x=int(input('Ingrese un numero'))\n",
    "    if numero==x:\n",
    "        print('Adivinaste!! :D')\n",
    "        break\n",
    "    if numero>x:\n",
    "        print('El número aleatorio es mayor')\n",
    "    else:\n",
    "        print ('El número aleatorio es menor')\n",
    "    print ('Te quedan', 10-(i+1), 'intentos.')\n",
    "else: \n",
    "    print ('Perdiste :(')\n",
    "print('El número que debías adivinar era', numero)"
   ]
  }
 ],
 "metadata": {
  "kernelspec": {
   "display_name": "Python 3",
   "language": "python",
   "name": "python3"
  },
  "language_info": {
   "codemirror_mode": {
    "name": "ipython",
    "version": 3
   },
   "file_extension": ".py",
   "mimetype": "text/x-python",
   "name": "python",
   "nbconvert_exporter": "python",
   "pygments_lexer": "ipython3",
   "version": "3.12.1"
  }
 },
 "nbformat": 4,
 "nbformat_minor": 2
}
